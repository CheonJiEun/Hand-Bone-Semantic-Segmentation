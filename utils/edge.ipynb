{
 "cells": [
  {
   "attachments": {},
   "cell_type": "markdown",
   "metadata": {},
   "source": [
    "# TOC"
   ]
  },
  {
   "attachments": {},
   "cell_type": "markdown",
   "metadata": {},
   "source": [
    "1. [Import](#1-import)\n",
    "2. [필요한 정보 입력](#2-필요한-정보-입력)\n",
    "3. [테두리 잘 잡는지 확인](#3-테두리를-잘-잡는지-확인)   \n",
    "    3.1. [필요한 값들 계산](#31-필요한-값들-계산)   \n",
    "    3.2. [그려보기](#32-그려보기)   \n",
    "    3.3. [값을 직접 보기](#33-값을-직접-보기)   "
   ]
  },
  {
   "attachments": {},
   "cell_type": "markdown",
   "metadata": {},
   "source": [
    "# 1. Import"
   ]
  },
  {
   "cell_type": "code",
   "execution_count": 1,
   "metadata": {},
   "outputs": [],
   "source": [
    "import os\n",
    "os.chdir('/opt/ml/input/code/local')\n",
    "\n",
    "import numpy as np\n",
    "import albumentations as A\n",
    "import matplotlib.pyplot as plt\n",
    "from tqdm import tqdm\n",
    "\n",
    "import torch\n",
    "import torch.nn.functional as F\n",
    "\n",
    "from dataset import XRayDataset\n",
    "from metric import dice_coef"
   ]
  },
  {
   "attachments": {},
   "cell_type": "markdown",
   "metadata": {},
   "source": [
    "# 2. 필요한 정보 입력"
   ]
  },
  {
   "cell_type": "code",
   "execution_count": 2,
   "metadata": {},
   "outputs": [],
   "source": [
    "CLASSES = [\n",
    "    \"finger-1\",\n",
    "    \"finger-2\",\n",
    "    \"finger-3\",\n",
    "    \"finger-4\",\n",
    "    \"finger-5\",\n",
    "    \"finger-6\",\n",
    "    \"finger-7\",\n",
    "    \"finger-8\",\n",
    "    \"finger-9\",\n",
    "    \"finger-10\",\n",
    "    \"finger-11\",\n",
    "    \"finger-12\",\n",
    "    \"finger-13\",\n",
    "    \"finger-14\",\n",
    "    \"finger-15\",\n",
    "    \"finger-16\",\n",
    "    \"finger-17\",\n",
    "    \"finger-18\",\n",
    "    \"finger-19\",\n",
    "    \"Trapezium\",\n",
    "    \"Trapezoid\",\n",
    "    \"Capitate\",\n",
    "    \"Hamate\",\n",
    "    \"Scaphoid\",\n",
    "    \"Lunate\",\n",
    "    \"Triquetrum\",\n",
    "    \"Pisiform\",\n",
    "    \"Radius\",\n",
    "    \"Ulna\",\n",
    "]"
   ]
  },
  {
   "cell_type": "code",
   "execution_count": 3,
   "metadata": {},
   "outputs": [],
   "source": [
    "data_root = \"/opt/ml/input/data\"\n",
    "save_dir = \"/opt/ml/input/code/local/checkpoints/[test]ExpName\""
   ]
  },
  {
   "attachments": {},
   "cell_type": "markdown",
   "metadata": {},
   "source": [
    "# 3. 테두리를 잘 잡는지 확인"
   ]
  },
  {
   "cell_type": "code",
   "execution_count": 4,
   "metadata": {},
   "outputs": [],
   "source": [
    "transform = A.Resize(512, 512)\n",
    "dataset = XRayDataset(data_root, transforms=transform, split=\"val1\")\n",
    "model = torch.load(os.path.join(save_dir, \"best_model.pt\"))\n",
    "thr = 0.5"
   ]
  },
  {
   "attachments": {},
   "cell_type": "markdown",
   "metadata": {},
   "source": [
    "## 3.1 필요한 값들 계산"
   ]
  },
  {
   "cell_type": "code",
   "execution_count": null,
   "metadata": {},
   "outputs": [],
   "source": [
    "dices = []\n",
    "preds = np.zeros((len(dataset), 29, 2048, 2048), dtype=np.bool_)\n",
    "gts = np.zeros((len(dataset), 29, 2048, 2048), dtype=np.bool_)\n",
    "for idx, (images, masks) in enumerate(tqdm(dataset)):\n",
    "    images, masks = images.unsqueeze(0), masks.unsqueeze(0)\n",
    "    \n",
    "    model.eval()\n",
    "    with torch.no_grad():\n",
    "        outputs = model(images.cuda())[\"out\"]\n",
    "        output_h, output_w = outputs.size(-2), outputs.size(-1)\n",
    "        mask_h, mask_w = masks.size(-2), masks.size(-1)\n",
    "\n",
    "        # restore original size\n",
    "        if output_h != mask_h or output_w != mask_w:\n",
    "            outputs = F.interpolate(outputs, size=(mask_h, mask_w), mode=\"bilinear\")\n",
    "\n",
    "        outputs = torch.sigmoid(outputs)\n",
    "        outputs = (outputs > thr).detach().cpu()\n",
    "        preds[idx] = np.array(outputs.data, dtype=np.bool_)\n",
    "        masks = masks.detach().cpu()\n",
    "        gts[idx] = np.array(masks.data, dtype=np.bool_)\n",
    "\n",
    "        dice = dice_coef(outputs, masks)\n",
    "        dices.append(dice)"
   ]
  },
  {
   "cell_type": "code",
   "execution_count": 6,
   "metadata": {},
   "outputs": [],
   "source": [
    "# 메모리 이슈\n",
    "del images\n",
    "del masks\n",
    "del outputs\n",
    "del dice"
   ]
  },
  {
   "cell_type": "code",
   "execution_count": null,
   "metadata": {},
   "outputs": [],
   "source": [
    "# Black Check (둘 다 배경)\n",
    "gt_fg = np.any(gts, axis=1, keepdims=True)\n",
    "pred_fg = np.any(preds, axis=1, keepdims=True)\n",
    "fg = gt_fg | pred_fg\n",
    "blacks = ~ fg\n",
    "blacks.shape"
   ]
  },
  {
   "cell_type": "code",
   "execution_count": null,
   "metadata": {},
   "outputs": [],
   "source": [
    "# Red Check (클래스 예측을 실패한 경우)\n",
    "reds = np.zeros_like(gts, dtype=np.bool_)\n",
    "for i in range(29):\n",
    "    reds[:,i,:,:] = (gts[:,i,:,:] != preds[:,i,:,:])\n",
    "reds = np.any(reds, axis=1, keepdims=True)\n",
    "reds = gt_fg & pred_fg & reds\n",
    "reds.shape"
   ]
  },
  {
   "cell_type": "code",
   "execution_count": null,
   "metadata": {},
   "outputs": [],
   "source": [
    "# Yellow Check (과소 예측)\n",
    "pred_bg = ~ pred_fg\n",
    "yellows = gt_fg & pred_bg\n",
    "yellows.shape"
   ]
  },
  {
   "cell_type": "code",
   "execution_count": null,
   "metadata": {},
   "outputs": [],
   "source": [
    "# Green Check (과대 예측)\n",
    "gt_bg = ~ gt_fg\n",
    "greens = gt_bg & pred_fg\n",
    "greens.shape"
   ]
  },
  {
   "cell_type": "code",
   "execution_count": null,
   "metadata": {},
   "outputs": [],
   "source": [
    "# Blue Check (클래스 예측을 모두 성공한 경우)\n",
    "blues = np.zeros_like(gts, dtype=np.bool_)\n",
    "for i in range(29):\n",
    "    blues[:,i,:,:] = (gts[:,i,:,:] == preds[:,i,:,:])\n",
    "blues = np.all(blues, axis=1, keepdims=True)\n",
    "blues = (gt_fg & pred_fg & blues)\n",
    "blues.shape"
   ]
  },
  {
   "cell_type": "code",
   "execution_count": 12,
   "metadata": {},
   "outputs": [],
   "source": [
    "# Overlap 영역 구하기\n",
    "gts_num = gts.astype(np.uint8)\n",
    "gts_sum = np.sum(gts_num, axis=1)\n",
    "gts_bool = np.where(gts_sum > 1, True, False)\n",
    "gts_bool = np.expand_dims(gts_bool, axis=1)"
   ]
  },
  {
   "cell_type": "code",
   "execution_count": 13,
   "metadata": {},
   "outputs": [],
   "source": [
    "# Dict에 저장\n",
    "arrs = dict(r=reds, g=greens, b=blues, y=yellows)"
   ]
  },
  {
   "cell_type": "code",
   "execution_count": 14,
   "metadata": {},
   "outputs": [],
   "source": [
    "# 메모리 이슈\n",
    "del gts\n",
    "del preds"
   ]
  },
  {
   "attachments": {},
   "cell_type": "markdown",
   "metadata": {},
   "source": [
    "## 3.2 그려보기"
   ]
  },
  {
   "cell_type": "code",
   "execution_count": 15,
   "metadata": {},
   "outputs": [],
   "source": [
    "def show(arrs, idx, color, overlap=False):\n",
    "    if len(color) > 1:\n",
    "        arr = np.zeros((3, 2048, 2048), dtype=np.bool_)\n",
    "        for c in color:\n",
    "            if c == \"r\":\n",
    "                arr[0, :, :] = arr[0, :, :] | arrs[\"r\"][idx]\n",
    "            elif c == \"g\":\n",
    "                arr[1, :, :] = arr[1, :, :] | arrs[\"g\"][idx]\n",
    "            elif c == \"b\":\n",
    "                arr[2, :, :] = arr[2, :, :] | arrs[\"b\"][idx]\n",
    "            elif c == \"y\":\n",
    "                arr[0:2, :, :] = arr[0:2, :, :] | arrs[\"y\"][idx]\n",
    "        arr = (arr.transpose(1, 2, 0) * 255).astype(np.uint8)\n",
    "    else:\n",
    "        arr = arrs[color][idx]\n",
    "        arr = arr.transpose(1, 2, 0)\n",
    "        arr = np.concatenate((arr, arr, arr), axis=2, dtype=np.uint8)\n",
    "        if color == \"r\":\n",
    "            arr[:, :, 0] = arr[:, :, 0] * 255\n",
    "        elif color == \"g\":\n",
    "            arr[:, :, 1] = arr[:, :, 1] * 255\n",
    "        elif color == \"b\":\n",
    "            arr[:, :, 2] = arr[:, :, 2] * 255\n",
    "        elif color == \"y\":\n",
    "            arr[:, :, 0:2] = arr[:, :, 0:2] * 255\n",
    "            \n",
    "    if overlap:\n",
    "        plt.imshow(arr * np.expand_dims(gts_bool[idx][0], axis=-1))\n",
    "        plt.xticks([])\n",
    "        plt.yticks([])\n",
    "        plt.tight_layout()\n",
    "        plt.show()\n",
    "    else:\n",
    "        plt.imshow(arr)\n",
    "        plt.xticks([])\n",
    "        plt.yticks([])\n",
    "        plt.tight_layout()\n",
    "        plt.show()\n",
    "    \n",
    "    return arr"
   ]
  },
  {
   "cell_type": "code",
   "execution_count": null,
   "metadata": {},
   "outputs": [],
   "source": [
    "idx = 84\n",
    "color = \"rgby\"\n",
    "arr = show(arrs, idx, color, False)"
   ]
  },
  {
   "attachments": {},
   "cell_type": "markdown",
   "metadata": {},
   "source": [
    "## 3.3 값을 직접 보기"
   ]
  },
  {
   "cell_type": "code",
   "execution_count": 17,
   "metadata": {},
   "outputs": [],
   "source": [
    "full_cnt = dict(r=0, g=0, b=0, y=0)\n",
    "overlap_cnt = dict(r=0, g=0, b=0, y=0)\n",
    "for key, val in arrs.items():\n",
    "    full_cnt[key] = round(np.count_nonzero(val) / 100000, 2) # Scaling\n",
    "    overlap_cnt[key] = round(np.count_nonzero(val * gts_bool) / 100000, 2) # Scaling\n",
    "full_cnt[\"g+y\"] = full_cnt[\"g\"] + full_cnt[\"y\"]\n",
    "overlap_cnt[\"g+y\"] = overlap_cnt[\"g\"] + overlap_cnt[\"y\"]"
   ]
  },
  {
   "cell_type": "code",
   "execution_count": null,
   "metadata": {},
   "outputs": [],
   "source": [
    "print(f\"Full: {full_cnt}\")\n",
    "print(f\"Overlap: {overlap_cnt}\")"
   ]
  },
  {
   "cell_type": "code",
   "execution_count": null,
   "metadata": {},
   "outputs": [],
   "source": [
    "dices_cat = torch.cat(dices, 0)\n",
    "dices_per_class = torch.mean(dices_cat, 0)\n",
    "dice_str = [f\"{c:<12}: {d.item():.4f}\" for c, d in zip(CLASSES, dices_per_class)]\n",
    "dice_str = \"\\n\".join(dice_str)\n",
    "print(dice_str)"
   ]
  }
 ],
 "metadata": {
  "kernelspec": {
   "display_name": "env",
   "language": "python",
   "name": "python3"
  },
  "language_info": {
   "codemirror_mode": {
    "name": "ipython",
    "version": 3
   },
   "file_extension": ".py",
   "mimetype": "text/x-python",
   "name": "python",
   "nbconvert_exporter": "python",
   "pygments_lexer": "ipython3",
   "version": "3.8.5"
  },
  "orig_nbformat": 4
 },
 "nbformat": 4,
 "nbformat_minor": 2
}
