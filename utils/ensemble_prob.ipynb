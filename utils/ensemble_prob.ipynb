{
 "cells": [
  {
   "cell_type": "markdown",
   "id": "2c2cd2ad-5164-42a6-8ce9-7a7e4e08c800",
   "metadata": {},
   "source": [
    "## parquet format 파일 불러와서 확률평균값으로 앙상블\n",
    "- csv 포맷 대신 parquet 포맷을 사용하여, 파일을 읽는 시간을 단축하였습니다.\n",
    "- ensemble_parquet 폴더 아래에 `make_parquet.ipynb`를 먼저 실행하여 확률값도 저장한 parquet 포맷의 파일들이 위치해야합니다.\n",
    "- 그래도 앙상블할 모델 갯수가 많아질수록 시간이 오래걸리니, parts로 나눠서 앙상블을 하는 것을 추천합니다."
   ]
  },
  {
   "cell_type": "code",
   "execution_count": null,
   "id": "b63772d0-c811-4b49-98b9-0debbd88b416",
   "metadata": {},
   "outputs": [],
   "source": [
    "!pip install pyarrow"
   ]
  },
  {
   "cell_type": "code",
   "execution_count": null,
   "id": "9eb95663-10ac-4b3f-8c48-33d5403bc42e",
   "metadata": {},
   "outputs": [],
   "source": [
    "import os\n",
    "import pandas as pd\n",
    "import numpy as np\n",
    "import matplotlib.pyplot as plt\n",
    "import pyarrow as pa\n",
    "import pyarrow.parquet as pq\n",
    "import pyarrow.csv as pc\n",
    "submission_files = []\n",
    "for file_name in os.listdir('./ensemble_parquet'):\n",
    "    if file_name.startswith('.'):\n",
    "        continue\n",
    "    submission_files.append(file_name)"
   ]
  },
  {
   "cell_type": "code",
   "execution_count": null,
   "id": "5ab2895e-cd40-4aaf-b079-a3c1fb8087fc",
   "metadata": {
    "scrolled": true
   },
   "outputs": [],
   "source": [
    "submission_files"
   ]
  },
  {
   "cell_type": "code",
   "execution_count": null,
   "id": "1785ccf0-ee88-4ad1-8183-e00d5c869374",
   "metadata": {},
   "outputs": [],
   "source": [
    "def decode_rle_to_mask(rle, prob, height, width):\n",
    "    if rle == None: # rle가 없는 경우, 0으로만 채워진 행렬 반환\n",
    "        img = np.zeros(height * width, dtype=np.float64)\n",
    "        return img.reshape(height, width)\n",
    "    s = rle.split()\n",
    "    p = prob.split()\n",
    "    starts, lengths = [np.asarray(x, dtype=int) for x in (s[0:][::2], s[1:][::2])]\n",
    "    starts -= 1\n",
    "    img = np.zeros(height * width, dtype=np.float64)\n",
    "    for s, l in zip(starts, lengths):\n",
    "        for i in range(l):\n",
    "            img[s+i] = float(p.pop(0))\n",
    "    return img.reshape(height, width)\n",
    "    \n",
    "def encode_mask_to_rle(mask):\n",
    "    pixels = mask.flatten()\n",
    "    pixels = np.concatenate([[0], pixels, [0]])\n",
    "    runs = np.where(pixels[1:] != pixels[:-1])[0] + 1\n",
    "    runs[1::2] -= runs[::2]\n",
    "    return ' '.join(str(x) for x in runs)"
   ]
  },
  {
   "cell_type": "code",
   "execution_count": null,
   "id": "ee98d218-4cec-445f-9b55-39391b39f75d",
   "metadata": {},
   "outputs": [],
   "source": [
    "image_name = []\n",
    "classes = []\n",
    "rles = []"
   ]
  },
  {
   "cell_type": "code",
   "execution_count": null,
   "id": "467a5b70-98f3-49c7-b19e-a56b20311149",
   "metadata": {
    "scrolled": true
   },
   "outputs": [],
   "source": [
    "vote = len(submission_files)//2\n",
    "for idx in range(29*300):\n",
    "    print(idx)\n",
    "    pred_list = []\n",
    "    sum_result = np.zeros((2048, 2048), dtype=np.float64)\n",
    "    \n",
    "    for submission in submission_files:\n",
    "        # df = pd.read_csv('./ensemble_prob/'+submission)\n",
    "        df = pq.read_table('./ensemble_parquet/'+submission).to_pandas()\n",
    "        pred = decode_rle_to_mask(df.loc[idx]['rle'], df.loc[idx]['prob'], height=2048, width=2048)\n",
    "        if np.max(pred) != 0:  # rle가 없는 경우는 제외하는 조건문\n",
    "            pred_list.append(pred)\n",
    "    \n",
    "    for pred in pred_list:\n",
    "        sum_result += pred\n",
    "    sum_result /= len(pred_list)\n",
    "    result = np.where(sum_result > 0.5, 1, 0)  # thr=0.5 초과만 앙상블 (codition, True, False)\n",
    "    rle = encode_mask_to_rle(result)\n",
    "    \n",
    "    image_name.append(df.loc[idx]['image_name'])\n",
    "    classes.append(df.loc[idx]['class'])\n",
    "    rles.append(rle)\n",
    "\n",
    "result_df = pd.DataFrame({\n",
    "    \"image_name\": image_name,\n",
    "    \"class\": classes,\n",
    "    \"rle\": rles\n",
    "})\n",
    "result_df.to_csv(\"./ensemble.csv\", index=False)"
   ]
  },
  {
   "cell_type": "code",
   "execution_count": null,
   "id": "fdd6bb29-9472-49d8-8b45-8d3c2dd18319",
   "metadata": {},
   "outputs": [],
   "source": [
    "result_df"
   ]
  },
  {
   "cell_type": "markdown",
   "id": "a2bc4e8c-a344-425c-ad4b-6727d88f8e46",
   "metadata": {},
   "source": [
    "## 나눠서 앙상블한 파일 합치기\n",
    "나눠서 앙상블시 prob____.ipynb를 모두 실행한 후,  \n",
    "ensemble_parts 폴더에 저장된 파일들을 불러와서 합쳐주는 코드 입니다."
   ]
  },
  {
   "cell_type": "code",
   "execution_count": null,
   "id": "786ef6d0-3dc2-497b-9e24-40a1d5470d48",
   "metadata": {},
   "outputs": [],
   "source": [
    "import os\n",
    "import pandas as pd\n",
    "import numpy as np\n",
    "import matplotlib.pyplot as plt\n",
    "import pyarrow as pa\n",
    "import pyarrow.parquet as pq\n",
    "import pyarrow.csv as pc\n",
    "ensemble_files = []\n",
    "for file_name in os.listdir('./ensemble_parts2'):\n",
    "    if file_name.startswith('.'):\n",
    "        continue\n",
    "    ensemble_files.append(file_name)\n",
    "ensemble_files.sort()"
   ]
  },
  {
   "cell_type": "code",
   "execution_count": null,
   "id": "90a6a4b6-11f4-4427-9f3b-47a59ed9e513",
   "metadata": {},
   "outputs": [],
   "source": [
    "len(ensemble_files)"
   ]
  },
  {
   "cell_type": "code",
   "execution_count": null,
   "id": "3bed1ffd-ec8d-4e37-9dfa-2f259b31e6e0",
   "metadata": {
    "scrolled": true
   },
   "outputs": [],
   "source": [
    "ensemble_files"
   ]
  },
  {
   "cell_type": "code",
   "execution_count": null,
   "id": "0dd3aa25-182e-4c9e-9069-32679dc48fc5",
   "metadata": {},
   "outputs": [],
   "source": [
    "ensemble_df = pd.read_csv('./ensemble_parts2/'+ensemble_files[0])\n",
    "for file in ensemble_files[1:]:\n",
    "    df = pd.read_csv('./ensemble_parts2/'+file)\n",
    "    ensemble_df = pd.concat([ensemble_df, df], ignore_index=True)"
   ]
  },
  {
   "cell_type": "code",
   "execution_count": null,
   "id": "3869bb16-fe92-459a-8a05-0f3140521614",
   "metadata": {},
   "outputs": [],
   "source": [
    "ensemble_df"
   ]
  },
  {
   "cell_type": "code",
   "execution_count": null,
   "id": "7e9015bd-88d6-47ba-8411-da67710b3246",
   "metadata": {},
   "outputs": [],
   "source": [
    "ensemble_df.to_csv(\"ensemble_concat.csv\", index=False)"
   ]
  }
 ],
 "metadata": {
  "kernelspec": {
   "display_name": "Python 3 (ipykernel)",
   "language": "python",
   "name": "python3"
  },
  "language_info": {
   "codemirror_mode": {
    "name": "ipython",
    "version": 3
   },
   "file_extension": ".py",
   "mimetype": "text/x-python",
   "name": "python",
   "nbconvert_exporter": "python",
   "pygments_lexer": "ipython3",
   "version": "3.8.5"
  }
 },
 "nbformat": 4,
 "nbformat_minor": 5
}
