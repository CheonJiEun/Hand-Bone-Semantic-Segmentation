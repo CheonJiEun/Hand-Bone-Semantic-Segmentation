{
 "cells": [
  {
   "attachments": {},
   "cell_type": "markdown",
   "metadata": {},
   "source": [
    "# TOC"
   ]
  },
  {
   "attachments": {},
   "cell_type": "markdown",
   "metadata": {},
   "source": [
    "1. [Import](#1-import)\n",
    "2. [필요한 정보 입력](#2-필요한-정보-입력)\n",
    "3. [Meta data 분석](#3-meta-data-분석)   \n",
    "    3.1. [성별 비교](#31-성별-비교)   \n",
    "    3.2. [나이 비교](#32-나이-비교)   \n",
    "    3.3. [체중(몸무게) 비교](#33-체중몸무게-비교)   \n",
    "    3.4. [키(신장) 비교](#34-키신장-비교)   \n",
    "4. [Meta data에 따른 결과 분석](#4-meta-data에-따른-결과-분석)   \n",
    "    4.1. [성별 비교](#41-성별-비교)   \n",
    "    4.2. [나이 비교](#42-나이-비교)   \n",
    "    4.3. [체중(몸무게) 비교](#43-체중몸무게-비교)   \n",
    "    4.4. [키(신장) 비교](#44-키신장-비교)   "
   ]
  },
  {
   "attachments": {},
   "cell_type": "markdown",
   "metadata": {},
   "source": [
    "# 1. Import"
   ]
  },
  {
   "cell_type": "code",
   "execution_count": 1,
   "metadata": {},
   "outputs": [],
   "source": [
    "import os\n",
    "os.chdir('/opt/ml/input/code/local')\n",
    "\n",
    "import numpy as np\n",
    "import albumentations as A\n",
    "import matplotlib.pyplot as plt\n",
    "import pandas as pd\n",
    "from tqdm import tqdm\n",
    "\n",
    "import torch\n",
    "import torch.nn.functional as F\n",
    "\n",
    "from dataset import XRayMetaDataset\n",
    "from metric import dice_coef"
   ]
  },
  {
   "attachments": {},
   "cell_type": "markdown",
   "metadata": {},
   "source": [
    "# 2. 필요한 정보 입력"
   ]
  },
  {
   "cell_type": "code",
   "execution_count": 176,
   "metadata": {},
   "outputs": [],
   "source": [
    "data_root = \"/opt/ml/input/data\"\n",
    "save_dir = \"/opt/ml/input/code/local/checkpoints/[test]Baseline1_1226\""
   ]
  },
  {
   "cell_type": "code",
   "execution_count": null,
   "metadata": {},
   "outputs": [],
   "source": [
    "CLASSES = [\n",
    "    \"finger-1\",\n",
    "    \"finger-2\",\n",
    "    \"finger-3\",\n",
    "    \"finger-4\",\n",
    "    \"finger-5\",\n",
    "    \"finger-6\",\n",
    "    \"finger-7\",\n",
    "    \"finger-8\",\n",
    "    \"finger-9\",\n",
    "    \"finger-10\",\n",
    "    \"finger-11\",\n",
    "    \"finger-12\",\n",
    "    \"finger-13\",\n",
    "    \"finger-14\",\n",
    "    \"finger-15\",\n",
    "    \"finger-16\",\n",
    "    \"finger-17\",\n",
    "    \"finger-18\",\n",
    "    \"finger-19\",\n",
    "    \"Trapezium\",\n",
    "    \"Trapezoid\",\n",
    "    \"Capitate\",\n",
    "    \"Hamate\",\n",
    "    \"Scaphoid\",\n",
    "    \"Lunate\",\n",
    "    \"Triquetrum\",\n",
    "    \"Pisiform\",\n",
    "    \"Radius\",\n",
    "    \"Ulna\",\n",
    "]"
   ]
  },
  {
   "attachments": {},
   "cell_type": "markdown",
   "metadata": {},
   "source": [
    "# 3. Meta data 분석"
   ]
  },
  {
   "cell_type": "code",
   "execution_count": 31,
   "metadata": {},
   "outputs": [],
   "source": [
    "# xlsx path\n",
    "df = pd.read_excel(os.path.join(data_root, \"meta_data.xlsx\"), engine='openpyxl')\n",
    "train_all_df = pd.read_csv(os.path.join(data_root, \"train_all.csv\"))\n",
    "train_df = pd.read_csv(os.path.join(data_root, \"train1.csv\"))\n",
    "val_df = pd.read_csv(os.path.join(data_root, \"val1.csv\"))\n",
    "test_df = pd.read_csv(os.path.join(data_root, \"test.csv\"))"
   ]
  },
  {
   "cell_type": "code",
   "execution_count": 32,
   "metadata": {},
   "outputs": [],
   "source": [
    "meta_id = df[\"ID\"].values\n",
    "train_all_id = list(set(map(lambda x:int(x.split(\"/\")[-2][2:]), train_all_df[\"filenames\"].values)))\n",
    "train_id = list(set(map(lambda x:int(x.split(\"/\")[-2][2:]), train_df[\"filenames\"].values)))\n",
    "val_id = list(set(map(lambda x:int(x.split(\"/\")[-2][2:]), val_df[\"filenames\"].values)))\n",
    "test_id = list(set(map(lambda x:int(x.split(\"/\")[-2][2:]), test_df[\"filenames\"].values)))"
   ]
  },
  {
   "cell_type": "code",
   "execution_count": 123,
   "metadata": {},
   "outputs": [],
   "source": [
    "colors = [\"royalblue\", \"tomato\", \"forestgreen\", \"gold\"]\n",
    "labels = [\"train\", \"val\", \"test\"]"
   ]
  },
  {
   "cell_type": "code",
   "execution_count": 161,
   "metadata": {},
   "outputs": [],
   "source": [
    "def plot_rate(apply, splits, kr_col, en_col):\n",
    "    train_age = np.array(list(map(apply, df[df[\"ID\"].isin(train_id)][kr_col].values)))\n",
    "    val_age = np.array(list(map(apply, df[df[\"ID\"].isin(val_id)][kr_col].values)))\n",
    "    test_age = np.array(list(map(apply, df[df[\"ID\"].isin(test_id)][kr_col].values)))\n",
    "    \n",
    "    _, train_cnts = np.unique(train_age, return_counts=True)\n",
    "    _, val_cnts = np.unique(val_age, return_counts=True)\n",
    "    _, test_cnts = np.unique(test_age, return_counts=True)\n",
    "    \n",
    "    train_cnts = np.divide(train_cnts, sum(train_cnts))\n",
    "    val_cnts = np.divide(val_cnts, sum(val_cnts))\n",
    "    test_cnts = np.divide(test_cnts, sum(test_cnts))\n",
    "    \n",
    "    cnts = np.stack([train_cnts, val_cnts, test_cnts], axis=0)\n",
    "\n",
    "    fig, ax = plt.subplots(1, 1, figsize=(10, 6))\n",
    "    ax.bar(labels, cnts[:, 0], color=colors[0], label=str(splits[0]), edgecolor='black')\n",
    "    for i, split in enumerate(splits[1:], start=1):\n",
    "        ax.bar(labels, cnts[:, i], color=colors[i], bottom=np.sum(cnts[:, :i], axis=1), label=str(split), edgecolor='black')\n",
    "\n",
    "    ax.legend()\n",
    "    plt.ylabel(\"Rate\")\n",
    "    plt.title(en_col)\n",
    "    plt.show()"
   ]
  },
  {
   "attachments": {},
   "cell_type": "markdown",
   "metadata": {},
   "source": [
    "## 3.1. 성별 비교"
   ]
  },
  {
   "cell_type": "code",
   "execution_count": 162,
   "metadata": {},
   "outputs": [],
   "source": [
    "splits = [\"Male\", \"Female\"]"
   ]
  },
  {
   "cell_type": "code",
   "execution_count": 163,
   "metadata": {},
   "outputs": [],
   "source": [
    "def gender_apply(gender):\n",
    "    return str(gender)[-1]"
   ]
  },
  {
   "cell_type": "code",
   "execution_count": null,
   "metadata": {},
   "outputs": [],
   "source": [
    "plot_rate(gender_apply, splits, \"성별\", \"Gender\")"
   ]
  },
  {
   "attachments": {},
   "cell_type": "markdown",
   "metadata": {},
   "source": [
    "## 3.2. 나이 비교"
   ]
  },
  {
   "cell_type": "code",
   "execution_count": 166,
   "metadata": {},
   "outputs": [],
   "source": [
    "splits = [(0, 25), (25, 29), (29, 36), (36, 70)]"
   ]
  },
  {
   "cell_type": "code",
   "execution_count": 167,
   "metadata": {},
   "outputs": [],
   "source": [
    "def age_apply(age):\n",
    "    for i, split in enumerate(splits):\n",
    "        if split[0] <= age < split[1]:\n",
    "            return i"
   ]
  },
  {
   "cell_type": "code",
   "execution_count": null,
   "metadata": {},
   "outputs": [],
   "source": [
    "plot_rate(age_apply, splits, \"나이\", \"Age\")"
   ]
  },
  {
   "attachments": {},
   "cell_type": "markdown",
   "metadata": {},
   "source": [
    "## 3.3. 체중(몸무게) 비교"
   ]
  },
  {
   "cell_type": "code",
   "execution_count": 169,
   "metadata": {},
   "outputs": [],
   "source": [
    "splits = [(0, 55), (55, 63), (63, 74), (74, 120)]"
   ]
  },
  {
   "cell_type": "code",
   "execution_count": 170,
   "metadata": {},
   "outputs": [],
   "source": [
    "def weight_apply(weight):\n",
    "    for i, split in enumerate(splits):\n",
    "        if split[0] <= weight < split[1]:\n",
    "            return i"
   ]
  },
  {
   "cell_type": "code",
   "execution_count": null,
   "metadata": {},
   "outputs": [],
   "source": [
    "plot_rate(weight_apply, splits, \"체중(몸무게)\", \"Weight\")"
   ]
  },
  {
   "attachments": {},
   "cell_type": "markdown",
   "metadata": {},
   "source": [
    "## 3.4. 키(신장) 비교|"
   ]
  },
  {
   "cell_type": "code",
   "execution_count": 172,
   "metadata": {},
   "outputs": [],
   "source": [
    "splits = [(0, 161), (161, 168), (168, 174), (174, 200)]"
   ]
  },
  {
   "cell_type": "code",
   "execution_count": 173,
   "metadata": {},
   "outputs": [],
   "source": [
    "def height_apply(height):\n",
    "    for i, split in enumerate(splits):\n",
    "        if split[0] <= height < split[1]:\n",
    "            return i"
   ]
  },
  {
   "cell_type": "code",
   "execution_count": null,
   "metadata": {},
   "outputs": [],
   "source": [
    "plot_rate(height_apply, splits, \"키(신장)\", \"Height\")"
   ]
  },
  {
   "attachments": {},
   "cell_type": "markdown",
   "metadata": {},
   "source": [
    "# 4. Meta data에 따른 결과 분석"
   ]
  },
  {
   "cell_type": "code",
   "execution_count": 177,
   "metadata": {},
   "outputs": [],
   "source": [
    "transform = A.Resize(512, 512)\n",
    "model = torch.load(os.path.join(save_dir, \"best_model.pt\"))\n",
    "thr = 0.5"
   ]
  },
  {
   "attachments": {},
   "cell_type": "markdown",
   "metadata": {},
   "source": [
    "## 4.1. 성별 비교"
   ]
  },
  {
   "cell_type": "code",
   "execution_count": null,
   "metadata": {},
   "outputs": [],
   "source": [
    "partials = [\"M\", \"W\"] # TODO\n",
    "splits = [\"train1\", \"val1\"]\n",
    "new_df = pd.DataFrame(index=splits, columns=partials)\n",
    "for split in splits:\n",
    "    for idx, partial in enumerate(partials):\n",
    "        partial_df = df[df[\"성별\"].str.contains(\"남\" if partial==\"M\" else \"여\")][\"ID\"]\n",
    "        meta_info = list(map(lambda x: \"ID\"+format(x, \"0>3\"),  partial_df.values))\n",
    "        dataset = XRayMetaDataset(data_root, meta_info, transforms=transform, split=split)\n",
    "        new_df.loc[split][partial] = len(dataset)\n",
    "new_df.div(new_df.sum(axis=1), axis=0)"
   ]
  },
  {
   "cell_type": "code",
   "execution_count": null,
   "metadata": {},
   "outputs": [],
   "source": [
    "partials = [\"M\", \"W\"] # TODO\n",
    "new_df = pd.DataFrame(index=CLASSES, columns=partials)\n",
    "\n",
    "for idx, partial in enumerate(partials):\n",
    "    # TODO\n",
    "    partial_df = df[df[\"성별\"].str.contains(\"남\" if partial==\"M\" else \"여\")][\"ID\"]\n",
    "    meta_info = list(map(lambda x: \"ID\"+format(x, \"0>3\"),  partial_df.values))\n",
    "    dataset = XRayMetaDataset(data_root, meta_info, transforms=transform, split=\"val1\")\n",
    "\n",
    "    dices = []\n",
    "    for images, masks in tqdm(dataset):\n",
    "        images, masks = images.unsqueeze(0), masks.unsqueeze(0)\n",
    "\n",
    "        outputs = model(images.cuda())[\"out\"]\n",
    "        output_h, output_w = outputs.size(-2), outputs.size(-1)\n",
    "        mask_h, mask_w = masks.size(-2), masks.size(-1)\n",
    "\n",
    "        # restore original size\n",
    "        if output_h != mask_h or output_w != mask_w:\n",
    "            outputs = F.interpolate(outputs, size=(mask_h, mask_w), mode=\"bilinear\")\n",
    "\n",
    "        outputs = torch.sigmoid(outputs)\n",
    "        outputs = (outputs > thr).detach().cpu()\n",
    "        masks = masks.detach().cpu()\n",
    "\n",
    "        dice = dice_coef(outputs, masks)\n",
    "        dices.append(dice)\n",
    "    dices = torch.cat(dices, 0)\n",
    "    dices_per_class = torch.mean(dices, 0)\n",
    "    new_df[partial] = dices_per_class"
   ]
  },
  {
   "cell_type": "code",
   "execution_count": null,
   "metadata": {},
   "outputs": [],
   "source": [
    "fig, ax = plt.subplots(1, 1, figsize=(25, 8))\n",
    "\n",
    "x = np.arange(len(CLASSES))\n",
    "width=0.3\n",
    "\n",
    "for idx, partial in enumerate(partials):\n",
    "    ax.bar(x+(-len(partials)+1+2*idx)*width/2, new_df[partial], \n",
    "       width=width)\n",
    "\n",
    "ax.set_xticks(x)\n",
    "ax.set_xticklabels(CLASSES, fontsize=20, rotation=30)  \n",
    "\n",
    "plt.ylim([0.7, 1.0]) \n",
    "plt.tight_layout()\n",
    "plt.show()"
   ]
  },
  {
   "attachments": {},
   "cell_type": "markdown",
   "metadata": {},
   "source": [
    "## 4.2. 나이 비교"
   ]
  },
  {
   "cell_type": "code",
   "execution_count": null,
   "metadata": {},
   "outputs": [],
   "source": [
    "partials = [(0, 25), (25, 29), (29, 36), (36, 70)] # TODO\n",
    "splits = [\"train1\", \"val1\"]\n",
    "new_df = pd.DataFrame(index=splits, columns=partials)\n",
    "for split in splits:\n",
    "    for idx, partial in enumerate(partials):\n",
    "        partial_df = df[(df[\"나이\"] >= partial[0]) & (df[\"나이\"] < partial[1])][\"ID\"]\n",
    "        meta_info = list(map(lambda x: \"ID\"+format(x, \"0>3\"),  partial_df.values))\n",
    "        dataset = XRayMetaDataset(data_root, meta_info, transforms=transform, split=split)\n",
    "        new_df.loc[split][partial] = len(dataset)\n",
    "new_df.div(new_df.sum(axis=1), axis=0)"
   ]
  },
  {
   "cell_type": "code",
   "execution_count": null,
   "metadata": {},
   "outputs": [],
   "source": [
    "partials = [(0, 25), (25, 29), (29, 36), (36, 70)] # TODO\n",
    "new_df = pd.DataFrame(index=CLASSES, columns=partials)\n",
    "\n",
    "for idx, partial in enumerate(partials):\n",
    "    # TODO\n",
    "    partial_df = df[(df[\"나이\"] >= partial[0]) & (df[\"나이\"] < partial[1])][\"ID\"]\n",
    "    \n",
    "    meta_info = list(map(lambda x: \"ID\"+format(x, \"0>3\"),  partial_df.values))\n",
    "    dataset = XRayMetaDataset(data_root, meta_info, transforms=transform, split=\"val1\")\n",
    "\n",
    "    dices = []\n",
    "    for images, masks in tqdm(dataset):\n",
    "        images, masks = images.unsqueeze(0), masks.unsqueeze(0)\n",
    "\n",
    "        outputs = model(images.cuda())[\"out\"]\n",
    "        output_h, output_w = outputs.size(-2), outputs.size(-1)\n",
    "        mask_h, mask_w = masks.size(-2), masks.size(-1)\n",
    "\n",
    "        # restore original size\n",
    "        if output_h != mask_h or output_w != mask_w:\n",
    "            outputs = F.interpolate(outputs, size=(mask_h, mask_w), mode=\"bilinear\")\n",
    "\n",
    "        outputs = torch.sigmoid(outputs)\n",
    "        outputs = (outputs > thr).detach().cpu()\n",
    "        masks = masks.detach().cpu()\n",
    "\n",
    "        dice = dice_coef(outputs, masks)\n",
    "        dices.append(dice)\n",
    "    dices = torch.cat(dices, 0)\n",
    "    dices_per_class = torch.mean(dices, 0)\n",
    "    new_df[partial] = dices_per_class"
   ]
  },
  {
   "cell_type": "code",
   "execution_count": null,
   "metadata": {},
   "outputs": [],
   "source": [
    "fig, ax = plt.subplots(1, 1, figsize=(25, 8))\n",
    "\n",
    "x = np.arange(len(CLASSES))\n",
    "width=0.15\n",
    "\n",
    "for idx, partial in enumerate(partials):\n",
    "    ax.bar(x+(-len(partials)+1+2*idx)*width/2, new_df[partial], \n",
    "       width=width)\n",
    "\n",
    "ax.set_xticks(x)\n",
    "ax.set_xticklabels(CLASSES, fontsize=20, rotation=30)  \n",
    "\n",
    "plt.ylim([0.7, 1.0]) \n",
    "plt.tight_layout()\n",
    "plt.show()"
   ]
  },
  {
   "attachments": {},
   "cell_type": "markdown",
   "metadata": {},
   "source": [
    "## 4.3. 체중(몸무게) 비교"
   ]
  },
  {
   "cell_type": "code",
   "execution_count": null,
   "metadata": {},
   "outputs": [],
   "source": [
    "partials = [(0, 55), (55, 63), (63, 74), (74, 120)] # TODO\n",
    "splits = [\"train1\", \"val1\"]\n",
    "new_df = pd.DataFrame(index=splits, columns=partials)\n",
    "for split in splits:\n",
    "    for idx, partial in enumerate(partials):\n",
    "        partial_df = df[(df[\"체중(몸무게)\"] >= partial[0]) & (df[\"체중(몸무게)\"] < partial[1])][\"ID\"]\n",
    "        meta_info = list(map(lambda x: \"ID\"+format(x, \"0>3\"),  partial_df.values))\n",
    "        dataset = XRayMetaDataset(data_root, meta_info, transforms=transform, split=split)\n",
    "        new_df.loc[split][partial] = len(dataset)\n",
    "new_df.div(new_df.sum(axis=1), axis=0)"
   ]
  },
  {
   "cell_type": "code",
   "execution_count": null,
   "metadata": {},
   "outputs": [],
   "source": [
    "partials = [(0, 55), (55, 63), (63, 74), (74, 120)] # TODO\n",
    "new_df = pd.DataFrame(index=CLASSES, columns=partials)\n",
    "\n",
    "for idx, partial in enumerate(partials):\n",
    "    # TODO\n",
    "    partial_df = df[(df[\"체중(몸무게)\"] >= partial[0]) & (df[\"체중(몸무게)\"] < partial[1])][\"ID\"]\n",
    "    \n",
    "    meta_info = list(map(lambda x: \"ID\"+format(x, \"0>3\"),  partial_df.values))\n",
    "    dataset = XRayMetaDataset(data_root, meta_info, transforms=transform, split=\"val1\")\n",
    "\n",
    "    dices = []\n",
    "    for images, masks in tqdm(dataset):\n",
    "        images, masks = images.unsqueeze(0), masks.unsqueeze(0)\n",
    "\n",
    "        outputs = model(images.cuda())[\"out\"]\n",
    "        output_h, output_w = outputs.size(-2), outputs.size(-1)\n",
    "        mask_h, mask_w = masks.size(-2), masks.size(-1)\n",
    "\n",
    "        # restore original size\n",
    "        if output_h != mask_h or output_w != mask_w:\n",
    "            outputs = F.interpolate(outputs, size=(mask_h, mask_w), mode=\"bilinear\")\n",
    "\n",
    "        outputs = torch.sigmoid(outputs)\n",
    "        outputs = (outputs > thr).detach().cpu()\n",
    "        masks = masks.detach().cpu()\n",
    "\n",
    "        dice = dice_coef(outputs, masks)\n",
    "        dices.append(dice)\n",
    "    dices = torch.cat(dices, 0)\n",
    "    dices_per_class = torch.mean(dices, 0)\n",
    "    new_df[partial] = dices_per_class"
   ]
  },
  {
   "cell_type": "code",
   "execution_count": null,
   "metadata": {},
   "outputs": [],
   "source": [
    "fig, ax = plt.subplots(1, 1, figsize=(25, 8))\n",
    "\n",
    "x = np.arange(len(CLASSES))\n",
    "width=0.15\n",
    "\n",
    "for idx, partial in enumerate(partials):\n",
    "    ax.bar(x+(-len(partials)+1+2*idx)*width/2, new_df[partial], \n",
    "       width=width)\n",
    "\n",
    "ax.set_xticks(x)\n",
    "ax.set_xticklabels(CLASSES, fontsize=20, rotation=30)  \n",
    "\n",
    "plt.ylim([0.7, 1.0]) \n",
    "plt.tight_layout()\n",
    "plt.show()"
   ]
  },
  {
   "attachments": {},
   "cell_type": "markdown",
   "metadata": {},
   "source": [
    "## 4.4. 키(신장) 비교"
   ]
  },
  {
   "cell_type": "code",
   "execution_count": null,
   "metadata": {},
   "outputs": [],
   "source": [
    "partials = [(0, 161), (161, 168), (168, 174), (174, 200)] # TODO\n",
    "splits = [\"train1\", \"val1\"]\n",
    "new_df = pd.DataFrame(index=splits, columns=partials)\n",
    "for split in splits:\n",
    "    for idx, partial in enumerate(partials):\n",
    "        partial_df = df[(df[\"키(신장)\"] >= partial[0]) & (df[\"키(신장)\"] < partial[1])][\"ID\"]\n",
    "        meta_info = list(map(lambda x: \"ID\"+format(x, \"0>3\"),  partial_df.values))\n",
    "        dataset = XRayMetaDataset(data_root, meta_info, transforms=transform, split=split)\n",
    "        new_df.loc[split][partial] = len(dataset)\n",
    "new_df.div(new_df.sum(axis=1), axis=0)"
   ]
  },
  {
   "cell_type": "code",
   "execution_count": null,
   "metadata": {},
   "outputs": [],
   "source": [
    "partials = [(0, 161), (161, 168), (168, 174), (174, 200)] # TODO\n",
    "new_df = pd.DataFrame(index=CLASSES, columns=partials)\n",
    "\n",
    "for idx, partial in enumerate(partials):\n",
    "    # TODO\n",
    "    partial_df = df[(df[\"키(신장)\"] >= partial[0]) & (df[\"키(신장)\"] < partial[1])][\"ID\"]\n",
    "    \n",
    "    meta_info = list(map(lambda x: \"ID\"+format(x, \"0>3\"),  partial_df.values))\n",
    "    dataset = XRayMetaDataset(data_root, meta_info, transforms=transform, split=\"val1\")\n",
    "\n",
    "    dices = []\n",
    "    for images, masks in tqdm(dataset):\n",
    "        images, masks = images.unsqueeze(0), masks.unsqueeze(0)\n",
    "\n",
    "        outputs = model(images.cuda())[\"out\"]\n",
    "        output_h, output_w = outputs.size(-2), outputs.size(-1)\n",
    "        mask_h, mask_w = masks.size(-2), masks.size(-1)\n",
    "\n",
    "        # restore original size\n",
    "        if output_h != mask_h or output_w != mask_w:\n",
    "            outputs = F.interpolate(outputs, size=(mask_h, mask_w), mode=\"bilinear\")\n",
    "\n",
    "        outputs = torch.sigmoid(outputs)\n",
    "        outputs = (outputs > thr).detach().cpu()\n",
    "        masks = masks.detach().cpu()\n",
    "\n",
    "        dice = dice_coef(outputs, masks)\n",
    "        dices.append(dice)\n",
    "    dices = torch.cat(dices, 0)\n",
    "    dices_per_class = torch.mean(dices, 0)\n",
    "    new_df[partial] = dices_per_class"
   ]
  },
  {
   "cell_type": "code",
   "execution_count": null,
   "metadata": {},
   "outputs": [],
   "source": [
    "fig, ax = plt.subplots(1, 1, figsize=(25, 8))\n",
    "\n",
    "x = np.arange(len(CLASSES))\n",
    "width=0.15\n",
    "\n",
    "for idx, partial in enumerate(partials):\n",
    "    ax.bar(x+(-len(partials)+1+2*idx)*width/2, new_df[partial], \n",
    "       width=width)\n",
    "\n",
    "ax.set_xticks(x)\n",
    "ax.set_xticklabels(CLASSES, fontsize=20, rotation=30)  \n",
    "\n",
    "plt.ylim([0.7, 1.0]) \n",
    "plt.tight_layout()\n",
    "plt.show()"
   ]
  }
 ],
 "metadata": {
  "kernelspec": {
   "display_name": "Python 3 (ipykernel)",
   "language": "python",
   "name": "python3"
  },
  "language_info": {
   "codemirror_mode": {
    "name": "ipython",
    "version": 3
   },
   "file_extension": ".py",
   "mimetype": "text/x-python",
   "name": "python",
   "nbconvert_exporter": "python",
   "pygments_lexer": "ipython3",
   "version": "3.8.5"
  }
 },
 "nbformat": 4,
 "nbformat_minor": 4
}
