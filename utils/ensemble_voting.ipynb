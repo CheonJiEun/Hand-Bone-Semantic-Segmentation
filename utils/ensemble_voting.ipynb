{
 "cells": [
  {
   "cell_type": "markdown",
   "id": "05d23310-5e7f-4af1-a71f-58d5979eb283",
   "metadata": {},
   "source": [
    "## Ensemble1 - Voting 방식\n",
    "- ensemble_voting 폴더에 앙상블할 모델의 CSV 파일들을 위치시키면 됩니다.\n",
    "- 각 픽셀에서 과반수 이상 True라고 예측한 값으로 앙상블합니다.\n",
    "- ex) 2개 모델 앙상블시 - 2개 모델 둘다 예측시에만 TRUE\n",
    "- ex) 3개 모델 앙상블시 - 2개 이상 모델 예측시에만 TRUE"
   ]
  },
  {
   "cell_type": "code",
   "execution_count": null,
   "id": "38aa1709-5917-46a4-aa74-cbf193d17e59",
   "metadata": {},
   "outputs": [],
   "source": [
    "import os\n",
    "import pandas as pd\n",
    "import numpy as np\n",
    "import matplotlib.pyplot as plt\n",
    "submission_files = []\n",
    "for file_name in os.listdir('./ensemble_voting'):\n",
    "    if file_name.startswith('.'):\n",
    "        continue\n",
    "    submission_files.append(file_name)"
   ]
  },
  {
   "cell_type": "code",
   "execution_count": null,
   "id": "fb79a190-793a-492d-b986-c4ae3857c28b",
   "metadata": {},
   "outputs": [],
   "source": [
    "submission_files"
   ]
  },
  {
   "cell_type": "code",
   "execution_count": null,
   "id": "3c68e333-79f7-4f90-b375-2ff6435bdf4a",
   "metadata": {
    "scrolled": true
   },
   "outputs": [],
   "source": [
    "def decode_rle_to_mask(rle, height, width):\n",
    "    s = rle.split()\n",
    "    starts, lengths = [np.asarray(x, dtype=int) for x in (s[0:][::2], s[1:][::2])]\n",
    "    starts -= 1\n",
    "    ends = starts + lengths\n",
    "    img = np.zeros(height * width, dtype=np.uint8)\n",
    "    for lo, hi in zip(starts, ends):\n",
    "        img[lo:hi] = 1\n",
    "    return img.reshape(height, width)\n",
    "    \n",
    "def encode_mask_to_rle(mask):\n",
    "    pixels = mask.flatten()\n",
    "    pixels = np.concatenate([[0], pixels, [0]])\n",
    "    runs = np.where(pixels[1:] != pixels[:-1])[0] + 1\n",
    "    runs[1::2] -= runs[::2]\n",
    "    return ' '.join(str(x) for x in runs)"
   ]
  },
  {
   "cell_type": "code",
   "execution_count": null,
   "id": "c35170e6-97fc-4bf1-9cf6-309c9c1ebbc3",
   "metadata": {},
   "outputs": [],
   "source": [
    "vote = len(submission_files)//2\n",
    "print(vote)"
   ]
  },
  {
   "cell_type": "code",
   "execution_count": null,
   "id": "e3126975-870f-41f4-9e90-88328fbf8864",
   "metadata": {
    "scrolled": true
   },
   "outputs": [],
   "source": [
    "image_name = []\n",
    "classes = []\n",
    "rles = []\n",
    "vote = len(submission_files)//2\n",
    "for idx in range(0, 1000):\n",
    "    print(idx)\n",
    "    pred_list = []\n",
    "    sum_result = np.zeros((2048, 2048), dtype=np.uint8)\n",
    "    \n",
    "    for submission in submission_files:\n",
    "        df = pd.read_csv('./ensemble_voting/'+submission)\n",
    "        pred_list.append(decode_rle_to_mask(df.loc[idx]['rle'], height=2048, width=2048))\n",
    "    \n",
    "    for pred in pred_list:\n",
    "        sum_result += pred\n",
    "    result = np.where(sum_result > vote, 1, 0)  # vote 이상만 앙상블 (codition, True, False)\n",
    "    rle = encode_mask_to_rle(result)\n",
    "    \n",
    "    image_name.append(df.loc[idx]['image_name'])\n",
    "    classes.append(df.loc[idx]['class'])\n",
    "    rles.append(rle)\n",
    "\n",
    "result_df = pd.DataFrame({\n",
    "    \"image_name\": image_name,\n",
    "    \"class\": classes,\n",
    "    \"rle\": rles,\n",
    "})\n",
    "result_df.to_csv(\"ensemble_voting1000.csv\", index=False)"
   ]
  },
  {
   "cell_type": "markdown",
   "id": "6d341753-4813-4c21-bb6f-be192d306a6c",
   "metadata": {},
   "source": [
    "## 예시 이미지 출력"
   ]
  },
  {
   "cell_type": "code",
   "execution_count": null,
   "id": "858f18c6-17e5-4b56-b7d0-b910548a72e3",
   "metadata": {
    "scrolled": true
   },
   "outputs": [],
   "source": [
    "vote = len(submission_files)//2\n",
    "all_classes_result = []\n",
    "img_id = 0\n",
    "for idx in range(img_id*29, (img_id+1)*29):\n",
    "    print(idx)\n",
    "    pred_list = []\n",
    "    sum_result = np.zeros((2048, 2048), dtype=np.uint8)\n",
    "    \n",
    "    for submission in submission_files:\n",
    "        df = pd.read_csv('./ensemble_voting/'+submission)\n",
    "        pred_list.append(decode_rle_to_mask(df.loc[idx]['rle'], height=2048, width=2048))\n",
    "    \n",
    "    for pred in pred_list:\n",
    "        sum_result += pred\n",
    "    result = np.where(sum_result > vote, 1, 0)  # vote 이상만 앙상블 (codition, True, False)\n",
    "    all_classes_result.append(result)\n",
    "\n",
    "all_classes_result = np.stack(all_classes_result, 0)"
   ]
  },
  {
   "cell_type": "code",
   "execution_count": null,
   "id": "10e06720-8e7c-4bd0-a110-2667a544e9fd",
   "metadata": {},
   "outputs": [],
   "source": [
    "pngs = {\n",
    "    os.path.relpath(os.path.join(root, fname), start=IMAGE_ROOT)\n",
    "    for root, _dirs, files in os.walk(IMAGE_ROOT)\n",
    "    for fname in files\n",
    "    if os.path.splitext(fname)[1].lower() == \".png\"\n",
    "}\n",
    "pngs = list(sorted(pngs))\n",
    "IMAGE_ROOT = \"/opt/ml/input/data/test/DCM\"\n",
    "PALETTE = [\n",
    "    (220, 20, 60), (119, 11, 32), (0, 0, 142), (0, 0, 230), (106, 0, 228),\n",
    "    (0, 60, 100), (0, 80, 100), (0, 0, 70), (0, 0, 192), (250, 170, 30),\n",
    "    (100, 170, 30), (220, 220, 0), (175, 116, 175), (250, 0, 30), (165, 42, 42),\n",
    "    (255, 77, 255), (0, 226, 252), (182, 182, 255), (0, 82, 0), (120, 166, 157),\n",
    "    (110, 76, 0), (174, 57, 255), (199, 100, 0), (72, 0, 118), (255, 179, 240),\n",
    "    (0, 125, 92), (209, 0, 151), (188, 208, 182), (0, 220, 176),\n",
    "]\n",
    "def label2rgb(label):\n",
    "    image_size = label.shape[1:] + (3, )\n",
    "    image = np.zeros(image_size, dtype=np.uint8)\n",
    "    \n",
    "    for i, class_label in enumerate(label):\n",
    "        image[class_label == 1] = PALETTE[i]\n",
    "        \n",
    "    return image\n",
    "import cv2\n",
    "fig, ax = plt.subplots(1, 2, figsize=(12, 6))\n",
    "image = cv2.imread(os.path.join(IMAGE_ROOT, pngs[0]))\n",
    "image = image / 255.\n",
    "ax[0].imshow(image)\n",
    "ax[1].imshow(label2rgb(all_classes_result))\n",
    "plt.show()"
   ]
  }
 ],
 "metadata": {
  "kernelspec": {
   "display_name": "Python 3 (ipykernel)",
   "language": "python",
   "name": "python3"
  },
  "language_info": {
   "codemirror_mode": {
    "name": "ipython",
    "version": 3
   },
   "file_extension": ".py",
   "mimetype": "text/x-python",
   "name": "python",
   "nbconvert_exporter": "python",
   "pygments_lexer": "ipython3",
   "version": "3.8.5"
  }
 },
 "nbformat": 4,
 "nbformat_minor": 5
}
