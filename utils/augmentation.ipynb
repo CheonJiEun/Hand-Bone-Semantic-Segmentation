{
 "cells": [
  {
   "attachments": {},
   "cell_type": "markdown",
   "id": "aff83a85",
   "metadata": {},
   "source": [
    "# TOC"
   ]
  },
  {
   "attachments": {},
   "cell_type": "markdown",
   "id": "afc68249",
   "metadata": {},
   "source": [
    "1. [Import](#1-import)\n",
    "2. [함수 정의](#2-함수-정의)\n",
    "3. [Albumentation 적용 확인](#3-albumentation-적용-확인)   \n",
    "    3.1. [Emboss](#31-emboss)   \n",
    "    3.2. [Equalize](#32-equalize)   \n",
    "    3.3. [Random contrast](#33-random-contrast)   \n",
    "    3.4. [Sharpen](#34-sharpness)   \n",
    "    3.5. [ToGray](#35-togray)   \n",
    "    3.6. [Rotate](#36-rotate)   \n",
    "    3.7. [CLAHE](#37-clahe)   \n",
    "    3.8. [Horizontal Flip](#38-horizontal-flip)   \n",
    "    3.9. [Center Crop](#39-centercrop)   \n",
    "    3.10. [Random Scale](#310-randomscale)   \n",
    "    3.11. [ShiftScaleRotate X축 이동만](#311-shiftscalerotate-x축-이동만)   \n",
    "4. [생각해본 방법들](#4-생각해본-방법들)   "
   ]
  },
  {
   "attachments": {},
   "cell_type": "markdown",
   "id": "027c3e00",
   "metadata": {},
   "source": [
    "# 1. Import"
   ]
  },
  {
   "cell_type": "code",
   "execution_count": null,
   "id": "25e6f260",
   "metadata": {},
   "outputs": [],
   "source": [
    "import os\n",
    "import cv2\n",
    "import albumentations as A\n",
    "import matplotlib.pyplot as plt"
   ]
  },
  {
   "attachments": {},
   "cell_type": "markdown",
   "id": "93b7a65f",
   "metadata": {},
   "source": [
    "# 2. 함수 정의"
   ]
  },
  {
   "cell_type": "code",
   "execution_count": null,
   "id": "dcac1760",
   "metadata": {},
   "outputs": [],
   "source": [
    "def apply_transform_and_show(folder_name, transform, img_name):\n",
    "    # train folder path\n",
    "    path_train = \"/opt/ml/input/data/train/DCM\"\n",
    "    \n",
    "    path_folder = os.path.join(path_train, folder_name)\n",
    "\n",
    "    # # 폴더 안에 이미지 파일 이름 가져오기\n",
    "    # image_files = [f for f in os.listdir(path_folder) if f.endswith('.jpg') or f.endswith('.png')]\n",
    "\n",
    "    # # 폴더 안에 랜덤하게 이미지 하나 선택(왼쪽 오른쪽 표시가 안됨)\n",
    "    # img_name = random.choice(image_files)\n",
    "    \n",
    "    # 이미지 읽기\n",
    "    img = cv2.imread(os.path.join(path_folder, img_name))\n",
    "    \n",
    "    # BGR to RGB\n",
    "    img = cv2.cvtColor(img, cv2.COLOR_BGR2RGB)\n",
    "    \n",
    "    # transform 적용s\n",
    "    img_transformed = transform(image=img)[\"image\"]\n",
    "    \n",
    "    # original image & transformed image\n",
    "    fig, ax = plt.subplots(1, 2, figsize=(12, 6))\n",
    "    \n",
    "    ax[0].imshow(img)\n",
    "    ax[0].set_title(f\"Original Image {folder_name}\")\n",
    "    \n",
    "    ax[1].imshow(img_transformed)\n",
    "    ax[1].set_title(f\"Transformed Image {folder_name}\")\n",
    "    \n",
    "    plt.show()"
   ]
  },
  {
   "attachments": {},
   "cell_type": "markdown",
   "id": "c758107f",
   "metadata": {},
   "source": [
    "# 3. Albumentation 적용 확인"
   ]
  },
  {
   "attachments": {},
   "cell_type": "markdown",
   "id": "9bec14a6",
   "metadata": {},
   "source": [
    "## 3.1 Emboss"
   ]
  },
  {
   "cell_type": "code",
   "execution_count": null,
   "id": "4b02ee2a",
   "metadata": {},
   "outputs": [],
   "source": [
    "# 적용할 transform 정의\n",
    "transform = A.Compose([\n",
    "    A.Resize(512,512),\n",
    "    A.Emboss(alpha=(0.5, 0.6), strength=(1.3, 1.3), p=1.0),\n",
    "])"
   ]
  },
  {
   "cell_type": "code",
   "execution_count": null,
   "id": "f71d0677",
   "metadata": {},
   "outputs": [],
   "source": [
    "apply_transform_and_show(\"ID363\", transform, \"image1664935962797.png\")"
   ]
  },
  {
   "attachments": {},
   "cell_type": "markdown",
   "id": "5439a583",
   "metadata": {},
   "source": [
    "## 3.2 Equalize"
   ]
  },
  {
   "cell_type": "code",
   "execution_count": null,
   "id": "502d3c97",
   "metadata": {},
   "outputs": [],
   "source": [
    "transform = A.Compose([\n",
    "    A.Equalize() # Equalize the image histogram.\n",
    "    # mask parameter에 대해서 더 알아보기\n",
    "])\n",
    "apply_transform_and_show(\"ID001\", transform)"
   ]
  },
  {
   "attachments": {},
   "cell_type": "markdown",
   "id": "e5a32653",
   "metadata": {},
   "source": [
    "## 3.3 Random Contrast"
   ]
  },
  {
   "cell_type": "code",
   "execution_count": null,
   "id": "d169fb94",
   "metadata": {},
   "outputs": [],
   "source": [
    "transform = A.Compose([\n",
    "    A.RandomContrast(limit=[0.7,0.7], p=1.0) # -0.3~0.3 사이로 랜덤한 contrast \n",
    "])\n",
    "apply_transform_and_show(\"ID001\", transform)"
   ]
  },
  {
   "attachments": {},
   "cell_type": "markdown",
   "id": "73d0ebc6",
   "metadata": {},
   "source": [
    "## 3.4 Sharpness"
   ]
  },
  {
   "cell_type": "code",
   "execution_count": null,
   "id": "bc338281",
   "metadata": {},
   "outputs": [],
   "source": [
    "transform = A.Compose([\n",
    "    A.Sharpen(alpha=(0.5, 0.9), lightness=(2.0, 2.0), p=1.0)\n",
    "])\n",
    "apply_transform_and_show(\"ID001\", transform)"
   ]
  },
  {
   "attachments": {},
   "cell_type": "markdown",
   "id": "38488fd8",
   "metadata": {},
   "source": [
    "## 3.5 ToGray"
   ]
  },
  {
   "cell_type": "code",
   "execution_count": null,
   "id": "c884a503",
   "metadata": {},
   "outputs": [],
   "source": [
    "transform = A.Compose([\n",
    "    A.ToGray(p=1.0)\n",
    "])\n",
    "apply_transform_and_show(\"ID001\", transform)"
   ]
  },
  {
   "attachments": {},
   "cell_type": "markdown",
   "id": "46db8d91",
   "metadata": {},
   "source": [
    "## 3.6 Rotate\n",
    "\n",
    "<br>\n",
    "\n",
    "* 테스트나 train 이미지 확인해서 왼손과 오른손에 따라 어느 방향으로 돌리는지 확인 할 필요 있을 듯! \n",
    "\n",
    "<br>\n",
    "\n",
    "* train에서 이미 돌려진 손에 rotate를 적용할 필요가 있을까? -> rotate를 offline으로 적용(rotate 안된 이미지만 골라서)"
   ]
  },
  {
   "cell_type": "code",
   "execution_count": null,
   "id": "b01ba0fa",
   "metadata": {
    "scrolled": true
   },
   "outputs": [],
   "source": [
    "transform = A.Compose([\n",
    "    A.Rotate (limit=[-35,-35], interpolation=1, border_mode=1, p=1.0)\n",
    "    \n",
    "])\n",
    "apply_transform_and_show(\"ID001\", transform)"
   ]
  },
  {
   "attachments": {},
   "cell_type": "markdown",
   "id": "85ba1945",
   "metadata": {},
   "source": [
    "## 3.7 CLAHE"
   ]
  },
  {
   "cell_type": "code",
   "execution_count": null,
   "id": "f93ff3d0",
   "metadata": {},
   "outputs": [],
   "source": [
    "transform = A.Compose([\n",
    "    A.CLAHE(clip_limit=[3.0,3.0], tile_grid_size=(8, 8), p=1.0)\n",
    "])\n",
    "apply_transform_and_show(\"ID001\", transform)"
   ]
  },
  {
   "attachments": {},
   "cell_type": "markdown",
   "id": "e7a1d8a3",
   "metadata": {},
   "source": [
    "## 3.8 Horizontal Flip"
   ]
  },
  {
   "cell_type": "code",
   "execution_count": null,
   "id": "0dbb6bc0",
   "metadata": {},
   "outputs": [],
   "source": [
    "transform = A.Compose([\n",
    "    A.HorizontalFlip(p=1.0)\n",
    "])\n",
    "apply_transform_and_show(\"ID001\", transform)"
   ]
  },
  {
   "attachments": {},
   "cell_type": "markdown",
   "id": "3f82421b",
   "metadata": {},
   "source": [
    "## 3.9 CenterCrop\n",
    "<br>\n",
    "\n",
    "* 손이 잘리는 경우 조심\n",
    "\n",
    "<br>\n",
    "\n",
    "* rotate된 손에 center crop 할 경우 정보 손실 우려\n",
    "\n",
    "<br>\n",
    "\n",
    "* TTA에 centercrop 어려울듯 (rotate 된 손)"
   ]
  },
  {
   "cell_type": "code",
   "execution_count": null,
   "id": "e712b64a",
   "metadata": {},
   "outputs": [],
   "source": [
    "transform = A.Compose([\n",
    "    A.CenterCrop(2000, 1400, always_apply=True, p=1.0)\n",
    "])\n",
    "apply_transform_and_show(\"ID001\", transform)"
   ]
  },
  {
   "attachments": {},
   "cell_type": "markdown",
   "id": "d0aba8f5",
   "metadata": {},
   "source": [
    "## 3.10 RandomScale"
   ]
  },
  {
   "cell_type": "code",
   "execution_count": null,
   "id": "516f63ed",
   "metadata": {},
   "outputs": [],
   "source": [
    "transform = A.Compose([\n",
    "    A.RandomScale (scale_limit=[0.3,0.3], interpolation=1, always_apply=True, p=1.0)\n",
    "])\n",
    "apply_transform_and_show(\"ID001\", transform)"
   ]
  },
  {
   "attachments": {},
   "cell_type": "markdown",
   "id": "87401c25",
   "metadata": {},
   "source": [
    "## 3.11 ShiftScaleRotate (x축 이동만)"
   ]
  },
  {
   "cell_type": "code",
   "execution_count": null,
   "id": "566eb9a6",
   "metadata": {},
   "outputs": [],
   "source": [
    "transform = A.Compose([\n",
    "    A.ShiftScaleRotate (shift_limit=[0.1,0.15], scale_limit=0.0, rotate_limit=0,\n",
    "                        interpolation=1, border_mode=1, value=None, mask_value=None,\n",
    "                        shift_limit_x=None, shift_limit_y=0.0,\n",
    "                        always_apply=False, p=1.0)\n",
    "    # 0.1 ~ 0.15 사이의 범위로 x축 shift\n",
    "])\n",
    "apply_transform_and_show(\"ID001\", transform)"
   ]
  },
  {
   "attachments": {},
   "cell_type": "markdown",
   "id": "088087e7",
   "metadata": {},
   "source": [
    "# 4. 생각해본 방법들"
   ]
  },
  {
   "attachments": {},
   "cell_type": "markdown",
   "id": "031c4b25",
   "metadata": {},
   "source": [
    "1. Transfer Learning: Offline cutmix -> Offline mosaic(Object Detection에서 큰 성능 향상)\n",
    "\n",
    "<br>\n",
    "\n",
    "2. Transfer Learning: Heavy Augmentation -> Low Augmentation(필요한 augmentation만)\n",
    "\n",
    "<br>\n",
    "\n",
    "3. 잘 맞추지 못하는 영역만 Crop 해서 이미지로 만들고 -> dataset에 추가(일종의 Offline Augmentation)\n",
    "\n",
    "<br>\n",
    "\n",
    "4. 찾아본 방법들\n",
    "- RICAP(random image cropping and patching) -> mosaic과 비슷한듯?\n",
    "- mixup\n",
    "- https://github.com/yizhezhang2000/SAMAug (Segment Anything을 이용한 의료 데이터 증폭?)\n",
    "-> https://arxiv.org/abs/2304.11332"
   ]
  }
 ],
 "metadata": {
  "kernelspec": {
   "display_name": "Python 3 (ipykernel)",
   "language": "python",
   "name": "python3"
  },
  "language_info": {
   "codemirror_mode": {
    "name": "ipython",
    "version": 3
   },
   "file_extension": ".py",
   "mimetype": "text/x-python",
   "name": "python",
   "nbconvert_exporter": "python",
   "pygments_lexer": "ipython3",
   "version": "3.8.5"
  }
 },
 "nbformat": 4,
 "nbformat_minor": 5
}
