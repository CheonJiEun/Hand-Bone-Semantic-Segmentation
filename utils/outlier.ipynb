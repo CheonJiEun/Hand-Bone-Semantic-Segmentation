{
 "cells": [
  {
   "attachments": {},
   "cell_type": "markdown",
   "metadata": {},
   "source": [
    "# TOC"
   ]
  },
  {
   "attachments": {},
   "cell_type": "markdown",
   "metadata": {},
   "source": [
    "1. [Import](#1-import)\n",
    "2. [필요한 정보 입력](#2-필요한-정보-입력)\n",
    "3. [클래스별 면적](#3-클래스별-면적)   \n",
    "4. [Outlier](#4-outlier)   \n",
    "    4.1. [Outlier 찾기](#41-outlier-찾기)   \n",
    "    4.2. [Dice 점수가 가장 낮은 이미지 살펴보기](#42-dice-점수가-가장-낮은-이미지-살펴보기)      \n",
    "    4.3. [Dice 점수가 가장 높은 이미지 살펴보기](#43-dice-점수가-가장-높은-이미지-살펴보기)   "
   ]
  },
  {
   "attachments": {},
   "cell_type": "markdown",
   "metadata": {},
   "source": [
    "# 1. Import"
   ]
  },
  {
   "cell_type": "code",
   "execution_count": null,
   "metadata": {},
   "outputs": [],
   "source": [
    "import os\n",
    "os.chdir('/opt/ml/input/code/local')\n",
    "\n",
    "import numpy as np\n",
    "import albumentations as A\n",
    "import matplotlib.pyplot as plt\n",
    "import pandas as pd\n",
    "import cv2\n",
    "from tqdm import tqdm\n",
    "import seaborn as sns\n",
    "import json\n",
    "\n",
    "import torch\n",
    "import torch.nn.functional as F\n",
    "\n",
    "from dataset import XRayDataset\n",
    "from visualize import label2rgb\n",
    "from metric import dice_coef"
   ]
  },
  {
   "attachments": {},
   "cell_type": "markdown",
   "metadata": {},
   "source": [
    "# 2. 필요한 정보 입력"
   ]
  },
  {
   "cell_type": "code",
   "execution_count": null,
   "metadata": {},
   "outputs": [],
   "source": [
    "data_root = \"/opt/ml/input/data\"\n",
    "save_dir = \"/opt/ml/input/code/local/checkpoints/[test]Baseline1_1226\""
   ]
  },
  {
   "cell_type": "code",
   "execution_count": null,
   "metadata": {},
   "outputs": [],
   "source": [
    "CLASSES = [\n",
    "    \"finger-1\",\n",
    "    \"finger-2\",\n",
    "    \"finger-3\",\n",
    "    \"finger-4\",\n",
    "    \"finger-5\",\n",
    "    \"finger-6\",\n",
    "    \"finger-7\",\n",
    "    \"finger-8\",\n",
    "    \"finger-9\",\n",
    "    \"finger-10\",\n",
    "    \"finger-11\",\n",
    "    \"finger-12\",\n",
    "    \"finger-13\",\n",
    "    \"finger-14\",\n",
    "    \"finger-15\",\n",
    "    \"finger-16\",\n",
    "    \"finger-17\",\n",
    "    \"finger-18\",\n",
    "    \"finger-19\",\n",
    "    \"Trapezium\",\n",
    "    \"Trapezoid\",\n",
    "    \"Capitate\",\n",
    "    \"Hamate\",\n",
    "    \"Scaphoid\",\n",
    "    \"Lunate\",\n",
    "    \"Triquetrum\",\n",
    "    \"Pisiform\",\n",
    "    \"Radius\",\n",
    "    \"Ulna\",\n",
    "]\n",
    "\n",
    "PALETTE = [\n",
    "    (220, 20, 60), (119, 11, 32), (0, 0, 142), (0, 0, 230), (106, 0, 228),\n",
    "    (0, 60, 100), (0, 80, 100), (0, 0, 70), (0, 0, 192), (250, 170, 30),\n",
    "    (100, 170, 30), (220, 220, 0), (175, 116, 175), (250, 0, 30), (165, 42, 42),\n",
    "    (255, 77, 255), (0, 226, 252), (182, 182, 255), (0, 82, 0), (120, 166, 157),\n",
    "    (110, 76, 0), (174, 57, 255), (199, 100, 0), (72, 0, 118), (255, 179, 240),\n",
    "    (0, 125, 92), (209, 0, 151), (188, 208, 182), (0, 220, 176),\n",
    "]"
   ]
  },
  {
   "attachments": {},
   "cell_type": "markdown",
   "metadata": {},
   "source": [
    "# 3. 클래스별 면적"
   ]
  },
  {
   "cell_type": "code",
   "execution_count": null,
   "metadata": {},
   "outputs": [],
   "source": [
    "def calculate_polygon_area(points):\n",
    "    \"\"\"\n",
    "    Shoelace formula를 이용한 면적 계산\n",
    "    \"\"\"\n",
    "    n = len(points) \n",
    "    area = 0.0\n",
    "    for i in range(n):\n",
    "        j = (i + 1) % n\n",
    "        area += points[i][0] * points[j][1]\n",
    "        area -= points[j][0] * points[i][1]\n",
    "    area = abs(area) / 2.0\n",
    "    return area"
   ]
  },
  {
   "cell_type": "code",
   "execution_count": null,
   "metadata": {},
   "outputs": [],
   "source": [
    "dataset = XRayDataset(data_root, transforms=None, split=\"train_all\")\n",
    "df = dataset.df\n",
    "meta = pd.read_excel(os.path.join(data_root, \"meta_data.xlsx\"), engine=\"openpyxl\")"
   ]
  },
  {
   "cell_type": "code",
   "execution_count": null,
   "metadata": {},
   "outputs": [],
   "source": [
    "areas = {key:0 for key in CLASSES}"
   ]
  },
  {
   "cell_type": "code",
   "execution_count": null,
   "metadata": {},
   "outputs": [],
   "source": [
    "for idx in tqdm(range(len(df))):\n",
    "    filename, labelname = df.iloc[idx]\n",
    "    with open(labelname) as f:\n",
    "        data = json.load(f)\n",
    "        for ann in data[\"annotations\"]:\n",
    "            area = calculate_polygon_area(ann[\"points\"])\n",
    "            areas[ann[\"label\"]] += area"
   ]
  },
  {
   "cell_type": "code",
   "execution_count": null,
   "metadata": {},
   "outputs": [],
   "source": [
    "areas = {key:areas[key]//len(df) for key in CLASSES}\n",
    "labels = np.array(list(areas.keys()))\n",
    "values = np.array(list(areas.values()))\n",
    "color = np.where(values < np.quantile(values, 0.25), \"tomato\", \"royalblue\")"
   ]
  },
  {
   "cell_type": "code",
   "execution_count": null,
   "metadata": {},
   "outputs": [],
   "source": [
    "(sum(values) / values) / sum(sum(values) / values) * 100"
   ]
  },
  {
   "cell_type": "code",
   "execution_count": null,
   "metadata": {},
   "outputs": [],
   "source": [
    "fig, ax = plt.subplots(1, 1, figsize=(10, 6))\n",
    "ax.bar(labels, values, color=color, edgecolor='black')\n",
    "plt.xticks(rotation='vertical')\n",
    "plt.ylabel('Average Area')\n",
    "plt.title('Average Area for each Class')\n",
    "plt.show()"
   ]
  },
  {
   "attachments": {},
   "cell_type": "markdown",
   "metadata": {},
   "source": [
    "# 4. Outlier"
   ]
  },
  {
   "attachments": {},
   "cell_type": "markdown",
   "metadata": {},
   "source": [
    "## 4.1. Outlier 찾기"
   ]
  },
  {
   "cell_type": "code",
   "execution_count": null,
   "metadata": {},
   "outputs": [],
   "source": [
    "transform = A.Resize(512, 512)\n",
    "dataset = XRayDataset(data_root, transforms=transform, split=\"train_all\")\n",
    "model = torch.load(os.path.join(save_dir, \"best_model.pt\"))\n",
    "thr = 0.5"
   ]
  },
  {
   "cell_type": "code",
   "execution_count": null,
   "metadata": {},
   "outputs": [],
   "source": [
    "dices = []\n",
    "preds = []\n",
    "for images, masks in tqdm(dataset):\n",
    "    images, masks = images.unsqueeze(0), masks.unsqueeze(0)\n",
    "\n",
    "    outputs = model(images.cuda())[\"out\"]\n",
    "    output_h, output_w = outputs.size(-2), outputs.size(-1)\n",
    "    mask_h, mask_w = masks.size(-2), masks.size(-1)\n",
    "\n",
    "    # restore original size\n",
    "    if output_h != mask_h or output_w != mask_w:\n",
    "        outputs = F.interpolate(outputs, size=(mask_h, mask_w), mode=\"bilinear\")\n",
    "\n",
    "    outputs = torch.sigmoid(outputs)\n",
    "    outputs = (outputs > thr).detach().cpu()\n",
    "    preds.append(outputs)\n",
    "    masks = masks.detach().cpu()\n",
    "\n",
    "    dice = dice_coef(outputs, masks)\n",
    "    dices.append(dice)\n",
    "dices = torch.cat(dices, 0)\n",
    "dice = {c: dices[:, idx] for idx, c in enumerate(CLASSES)}\n",
    "df = pd.DataFrame(dice)"
   ]
  },
  {
   "cell_type": "code",
   "execution_count": null,
   "metadata": {},
   "outputs": [],
   "source": [
    "fig, ax = plt.subplots(figsize=(15, 8))\n",
    "box = sns.boxplot(data=df, showmeans=True, ax=ax)\n",
    "ax.set_xticklabels(ax.get_xticklabels(), rotation=45, fontsize=20)\n",
    "plt.tight_layout()\n",
    "plt.show()"
   ]
  },
  {
   "attachments": {},
   "cell_type": "markdown",
   "metadata": {},
   "source": [
    "## 4.2. Dice 점수가 가장 낮은 이미지 살펴보기"
   ]
  },
  {
   "cell_type": "code",
   "execution_count": null,
   "metadata": {},
   "outputs": [],
   "source": [
    "def show_detail(idx, c, interval = 10):\n",
    "    images, masks = dataset[idx]\n",
    "    filenames = dataset.df[\"filenames\"].iloc[idx]\n",
    "    filename = filenames.split(\"/\")[-1]\n",
    "    pred = preds[idx][0].cpu().numpy()\n",
    "    \n",
    "    y_idx, x_idx = np.where(pred[c]==True)\n",
    "    \n",
    "    min_indicies = list(map(lambda x:x-interval, [min(y_idx), min(x_idx)]))\n",
    "    max_indicies = list(map(lambda x:x+interval, [max(y_idx), max(x_idx)]))\n",
    "    \n",
    "    # Image\n",
    "    img = images.cpu().numpy()\n",
    "    img = np.transpose(img, (1,2,0))\n",
    "    img *= 255\n",
    "    img = img.astype(np.uint8)\n",
    "    img = cv2.resize(img, (2048, 2048))\n",
    "    \n",
    "    # GT Mask\n",
    "    zero_mask = np.zeros_like(masks)\n",
    "    zero_mask[c] = masks[c]\n",
    "    gt_mask = label2rgb(zero_mask)\n",
    "    \n",
    "    # PRED Mask\n",
    "    zero_mask = np.zeros_like(pred)\n",
    "    zero_mask[c] = pred[c]\n",
    "    pred_mask = label2rgb(zero_mask)\n",
    "    \n",
    "    # Detail\n",
    "    img = img[min_indicies[0]:max_indicies[0], min_indicies[1]:max_indicies[1]]\n",
    "    gt_mask = gt_mask[min_indicies[0]:max_indicies[0], min_indicies[1]:max_indicies[1]]\n",
    "    pred_mask = pred_mask[min_indicies[0]:max_indicies[0], min_indicies[1]:max_indicies[1]]\n",
    "    \n",
    "    h, w, _ = img.shape\n",
    "    ratio_h, ratio_w = h/(h+w), w/(h+w)\n",
    "    \n",
    "    # Image Show\n",
    "    fig, ax = plt.subplots(1, 3, figsize=(20*ratio_w, 20*ratio_h))\n",
    "    show_imgs = [img, gt_mask, pred_mask]\n",
    "    show_titles = [f\"{CLASSES[c]}\", \"GT\", \"Pred\"]\n",
    "    for i, (show_img, show_title) in enumerate(zip(show_imgs, show_titles)):\n",
    "        ax[i].imshow(show_img, cmap='gray')\n",
    "        ax[i].set_title(show_title, fontsize=20)\n",
    "        ax[i].set_xticks([])\n",
    "        ax[i].set_yticks([])\n",
    "\n",
    "    fig.suptitle(f\"{idx}-{filename}\", y = 0.7, fontsize=20)\n",
    "\n",
    "    plt.tight_layout()\n",
    "    plt.show()"
   ]
  },
  {
   "cell_type": "code",
   "execution_count": null,
   "metadata": {},
   "outputs": [],
   "source": [
    "# 보고 싶은 클래스 선택\n",
    "cls_idx = 28\n",
    "\n",
    "# Outlier 확인\n",
    "min_val = df.describe().loc[\"25%\"] - 1.5 * (df.describe().loc[\"75%\"] - df.describe().loc[\"25%\"])\n",
    "outlier = {c:[] for c in CLASSES}\n",
    "for idx in range(len(df)):\n",
    "    val = df.iloc[idx]\n",
    "    for c in CLASSES:\n",
    "        if val[c] < min_val[c]:\n",
    "            outlier[c].append((idx, min_val[c]-val[c]))\n",
    "            \n",
    "if len(outlier[CLASSES[cls_idx]]) > 0:\n",
    "    outlier_idx = np.array(sorted(outlier[CLASSES[cls_idx]], key=lambda x: x[1], reverse=True), dtype=np.int64)[:, 0]\n",
    "\n",
    "    # 시각화\n",
    "    show_detail(outlier_idx[0], cls_idx, interval=10)\n",
    "else:\n",
    "    print(\"No outlier\")"
   ]
  },
  {
   "attachments": {},
   "cell_type": "markdown",
   "metadata": {},
   "source": [
    "## 4.3. Dice 점수가 가장 높은 이미지 살펴보기"
   ]
  },
  {
   "cell_type": "code",
   "execution_count": null,
   "metadata": {},
   "outputs": [],
   "source": [
    "def show_detail(idx, c, interval = 10):\n",
    "    images, masks = dataset[idx]\n",
    "    filenames = dataset.df[\"filenames\"].iloc[idx]\n",
    "    filename = filenames.split(\"/\")[-1]\n",
    "    pred = preds[idx][0].cpu().numpy()\n",
    "    \n",
    "    y_idx, x_idx = np.where(pred[c]==True)\n",
    "    \n",
    "    min_indicies = list(map(lambda x:x-interval, [min(y_idx), min(x_idx)]))\n",
    "    max_indicies = list(map(lambda x:x+interval, [max(y_idx), max(x_idx)]))\n",
    "    \n",
    "    # Image\n",
    "    img = images.cpu().numpy()\n",
    "    img = np.transpose(img, (1,2,0))\n",
    "    img *= 255\n",
    "    img = img.astype(np.uint8)\n",
    "    img = cv2.resize(img, (2048, 2048))\n",
    "    \n",
    "    # GT Mask\n",
    "    zero_mask = np.zeros_like(masks)\n",
    "    zero_mask[c] = masks[c]\n",
    "    gt_mask = label2rgb(zero_mask)\n",
    "    \n",
    "    # PRED Mask\n",
    "    zero_mask = np.zeros_like(pred)\n",
    "    zero_mask[c] = pred[c]\n",
    "    pred_mask = label2rgb(zero_mask)\n",
    "    \n",
    "    # Detail\n",
    "    img = img[min_indicies[0]:max_indicies[0], min_indicies[1]:max_indicies[1]]\n",
    "    gt_mask = gt_mask[min_indicies[0]:max_indicies[0], min_indicies[1]:max_indicies[1]]\n",
    "    pred_mask = pred_mask[min_indicies[0]:max_indicies[0], min_indicies[1]:max_indicies[1]]\n",
    "    \n",
    "    h, w, _ = img.shape\n",
    "    ratio_h, ratio_w = h/(h+w), w/(h+w)\n",
    "    \n",
    "    # Image Show\n",
    "    fig, ax = plt.subplots(1, 3, figsize=(20*ratio_w, 20*ratio_h))\n",
    "    show_imgs = [img, gt_mask, pred_mask]\n",
    "    show_titles = [f\"{CLASSES[c]}\", \"GT\", \"Pred\"]\n",
    "    for i, (show_img, show_title) in enumerate(zip(show_imgs, show_titles)):\n",
    "        ax[i].imshow(show_img, cmap='gray')\n",
    "        ax[i].set_title(show_title, fontsize=20)\n",
    "        ax[i].set_xticks([])\n",
    "        ax[i].set_yticks([])\n",
    "\n",
    "    fig.suptitle(f\"{idx}-{filename}\", y = 0.7, fontsize=20)\n",
    "\n",
    "    plt.tight_layout()\n",
    "    plt.show()"
   ]
  },
  {
   "cell_type": "code",
   "execution_count": null,
   "metadata": {},
   "outputs": [],
   "source": [
    "# 보고 싶은 클래스 선택\n",
    "cls_idx = 28\n",
    "\n",
    "# Max value 확인\n",
    "max_val = df.describe().loc[\"max\"]\n",
    "inlier = {c:[] for c in CLASSES}\n",
    "for idx in range(len(df)):\n",
    "    val = df.iloc[idx]\n",
    "    for c in CLASSES:\n",
    "        if val[c] == max_val[c]:\n",
    "            inlier[c].append((idx, val[c] - max_val[c]))\n",
    "            \n",
    "\n",
    "max_idx = np.array(inlier[CLASSES[cls_idx]], dtype=np.int64)[:, 0]\n",
    "\n",
    "# 시각화\n",
    "show_detail(max_idx[0], cls_idx, interval=10)\n"
   ]
  }
 ],
 "metadata": {
  "kernelspec": {
   "display_name": "base",
   "language": "python",
   "name": "python3"
  },
  "language_info": {
   "codemirror_mode": {
    "name": "ipython",
    "version": 3
   },
   "file_extension": ".py",
   "mimetype": "text/x-python",
   "name": "python",
   "nbconvert_exporter": "python",
   "pygments_lexer": "ipython3",
   "version": "3.8.5"
  },
  "orig_nbformat": 4
 },
 "nbformat": 4,
 "nbformat_minor": 2
}
